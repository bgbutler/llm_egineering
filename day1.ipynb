{
 "cells": [
  {
   "cell_type": "markdown",
   "id": "d15d8294-3328-4e07-ad16-8a03e9bbfdb9",
   "metadata": {},
   "source": [
    "# YOUR FIRST LAB\n",
    "### Please read this section. This is valuable to get you prepared, even if it's a long read -- it's important stuff.\n",
    "\n",
    "## Your first Frontier LLM Project\n",
    "\n",
    "Let's build a useful LLM solution - in a matter of minutes.\n",
    "\n",
    "By the end of this course, you will have built an autonomous Agentic AI solution with 7 agents that collaborate to solve a business problem. All in good time! We will start with something smaller...\n",
    "\n",
    "Our goal is to code a new kind of Web Browser. Give it a URL, and it will respond with a summary. The Reader's Digest of the internet!!\n",
    "\n",
    "Before starting, you should have completed the setup for [PC](../SETUP-PC.md) or [Mac](../SETUP-mac.md) and you hopefully launched this jupyter lab from within the project root directory, with your environment activated.\n",
    "\n",
    "## If you're new to Jupyter Lab\n",
    "\n",
    "Welcome to the wonderful world of Data Science experimentation! Once you've used Jupyter Lab, you'll wonder how you ever lived without it. Simply click in each \"cell\" with code in it, such as the cell immediately below this text, and hit Shift+Return to execute that cell. As you wish, you can add a cell with the + button in the toolbar, and print values of variables, or try out variations.  \n",
    "\n",
    "I've written a notebook called [Guide to Jupyter](Guide%20to%20Jupyter.ipynb) to help you get more familiar with Jupyter Labs, including adding Markdown comments, using `!` to run shell commands, and `tqdm` to show progress.\n",
    "\n",
    "## If you're new to the Command Line\n",
    "\n",
    "Please see these excellent guides: [Command line on PC](https://chatgpt.com/share/67b0acea-ba38-8012-9c34-7a2541052665) and [Command line on Mac](https://chatgpt.com/canvas/shared/67b0b10c93a081918210723867525d2b).  \n",
    "\n",
    "## If you'd prefer to work in IDEs\n",
    "\n",
    "If you're more comfortable in IDEs like VSCode, Cursor or PyCharm, they both work great with these lab notebooks too.  \n",
    "If you'd prefer to work in VSCode, [here](https://chatgpt.com/share/676f2e19-c228-8012-9911-6ca42f8ed766) are instructions from an AI friend on how to configure it for the course.\n",
    "\n",
    "## If you'd like to brush up your Python\n",
    "\n",
    "I've added a notebook called [Intermediate Python](Intermediate%20Python.ipynb) to get you up to speed. But you should give it a miss if you already have a good idea what this code does:    \n",
    "`yield from {book.get(\"author\") for book in books if book.get(\"author\")}`\n",
    "\n",
    "## I am here to help\n",
    "\n",
    "If you have any problems at all, please do reach out.  \n",
    "I'm available through the platform, or at ed@edwarddonner.com, or at https://www.linkedin.com/in/eddonner/ if you'd like to connect (and I love connecting!)  \n",
    "And this is new to me, but I'm also trying out X/Twitter at [@edwarddonner](https://x.com/edwarddonner) - if you're on X, please show me how it's done 😂  \n",
    "\n",
    "## More troubleshooting\n",
    "\n",
    "Please see the [troubleshooting](troubleshooting.ipynb) notebook in this folder to diagnose and fix common problems. At the very end of it is a diagnostics script with some useful debug info.\n",
    "\n",
    "## For foundational technical knowledge (eg Git, APIs, debugging) \n",
    "\n",
    "If you're relatively new to programming -- I've got your back! While it's ideal to have some programming experience for this course, there's only one mandatory prerequisite: plenty of patience. 😁 I've put together a set of self-study guides that cover Git and GitHub, APIs and endpoints, beginner python and more.\n",
    "\n",
    "This covers Git and GitHub; what they are, the difference, and how to use them:  \n",
    "https://github.com/ed-donner/agents/blob/main/guides/03_git_and_github.ipynb\n",
    "\n",
    "This covers technical foundations:  \n",
    "ChatGPT vs API; taking screenshots; Environment Variables; Networking basics; APIs and endpoints:  \n",
    "https://github.com/ed-donner/agents/blob/main/guides/04_technical_foundations.ipynb\n",
    "\n",
    "This covers Python for beginners, and making sure that a `NameError` never trips you up:  \n",
    "https://github.com/ed-donner/agents/blob/main/guides/06_python_foundations.ipynb\n",
    "\n",
    "This covers the essential techniques for figuring out errors:  \n",
    "https://github.com/ed-donner/agents/blob/main/guides/08_debugging.ipynb\n",
    "\n",
    "And you'll find other useful guides in the same folder in GitHub. Some information applies to my other Udemy course (eg Async Python) but most of it is very relevant for LLM engineering.\n",
    "\n",
    "## If this is old hat!\n",
    "\n",
    "If you're already comfortable with today's material, please hang in there; you can move swiftly through the first few labs - we will get much more in depth as the weeks progress. Ultimately we will fine-tune our own LLM to compete with OpenAI!\n",
    "\n",
    "<table style=\"margin: 0; text-align: left;\">\n",
    "    <tr>\n",
    "        <td style=\"width: 150px; height: 150px; vertical-align: middle;\">\n",
    "            <img src=\"../important.jpg\" width=\"150\" height=\"150\" style=\"display: block;\" />\n",
    "        </td>\n",
    "        <td>\n",
    "            <h2 style=\"color:#900;\">Please read - important note</h2>\n",
    "            <span style=\"color:#900;\">The way I collaborate with you may be different to other courses you've taken. I prefer not to type code while you watch. Rather, I execute Jupyter Labs, like this, and give you an intuition for what's going on. My suggestion is that you carefully execute this yourself, <b>after</b> watching the lecture. Add print statements to understand what's going on, and then come up with your own variations. If you have a Github account, use this to showcase your variations. Not only is this essential practice, but it demonstrates your skills to others, including perhaps future clients or employers...</span>\n",
    "        </td>\n",
    "    </tr>\n",
    "</table>\n",
    "<table style=\"margin: 0; text-align: left;\">\n",
    "    <tr>\n",
    "        <td style=\"width: 150px; height: 150px; vertical-align: middle;\">\n",
    "            <img src=\"../resources.jpg\" width=\"150\" height=\"150\" style=\"display: block;\" />\n",
    "        </td>\n",
    "        <td>\n",
    "            <h2 style=\"color:#f71;\">This code is a live resource - keep an eye out for my emails</h2>\n",
    "            <span style=\"color:#f71;\">I push updates to the code regularly. As people ask questions, I add more examples or improved commentary. As a result, you'll notice that the code below isn't identical to the videos. Everything from the videos is here; but I've also added better explanations and new models like DeepSeek. Consider this like an interactive book.<br/><br/>\n",
    "                I try to send emails regularly with important updates related to the course. You can find this in the 'Announcements' section of Udemy in the left sidebar. You can also choose to receive my emails via your Notification Settings in Udemy. I'm respectful of your inbox and always try to add value with my emails!\n",
    "            </span>\n",
    "        </td>\n",
    "    </tr>\n",
    "</table>\n",
    "<table style=\"margin: 0; text-align: left;\">\n",
    "    <tr>\n",
    "        <td style=\"width: 150px; height: 150px; vertical-align: middle;\">\n",
    "            <img src=\"../business.jpg\" width=\"150\" height=\"150\" style=\"display: block;\" />\n",
    "        </td>\n",
    "        <td>\n",
    "            <h2 style=\"color:#181;\">Business value of these exercises</h2>\n",
    "            <span style=\"color:#181;\">A final thought. While I've designed these notebooks to be educational, I've also tried to make them enjoyable. We'll do fun things like have LLMs tell jokes and argue with each other. But fundamentally, my goal is to teach skills you can apply in business. I'll explain business implications as we go, and it's worth keeping this in mind: as you build experience with models and techniques, think of ways you could put this into action at work today. Please do contact me if you'd like to discuss more or if you have ideas to bounce off me.</span>\n",
    "        </td>\n",
    "    </tr>\n",
    "</table>"
   ]
  },
  {
   "cell_type": "code",
   "execution_count": 2,
   "id": "4e2a9393-7767-488e-a8bf-27c12dca35bd",
   "metadata": {},
   "outputs": [],
   "source": [
    "# imports\n",
    "\n",
    "import os\n",
    "import requests\n",
    "from dotenv import load_dotenv\n",
    "from bs4 import BeautifulSoup\n",
    "from IPython.display import Markdown, display\n",
    "from openai import OpenAI\n",
    "\n",
    "# If you get an error running this cell, then please head over to the troubleshooting notebook!"
   ]
  },
  {
   "cell_type": "markdown",
   "id": "6900b2a8-6384-4316-8aaa-5e519fca4254",
   "metadata": {},
   "source": [
    "# Connecting to OpenAI (or Ollama)\n",
    "\n",
    "The next cell is where we load in the environment variables in your `.env` file and connect to OpenAI.  \n",
    "\n",
    "If you'd like to use free Ollama instead, please see the README section \"Free Alternative to Paid APIs\", and if you're not sure how to do this, there's a full solution in the solutions folder (day1_with_ollama.ipynb).\n",
    "\n",
    "## Troubleshooting if you have problems:\n",
    "\n",
    "Head over to the [troubleshooting](troubleshooting.ipynb) notebook in this folder for step by step code to identify the root cause and fix it!\n",
    "\n",
    "If you make a change, try restarting the \"Kernel\" (the python process sitting behind this notebook) by Kernel menu >> Restart Kernel and Clear Outputs of All Cells. Then try this notebook again, starting at the top.\n",
    "\n",
    "Or, contact me! Message me or email ed@edwarddonner.com and we will get this to work.\n",
    "\n",
    "Any concerns about API costs? See my notes in the README - costs should be minimal, and you can control it at every point. You can also use Ollama as a free alternative, which we discuss during Day 2."
   ]
  },
  {
   "cell_type": "code",
   "execution_count": 3,
   "id": "7b87cadb-d513-4303-baee-a37b6f938e4d",
   "metadata": {},
   "outputs": [
    {
     "name": "stdout",
     "output_type": "stream",
     "text": [
      "API key found and looks good so far!\n"
     ]
    }
   ],
   "source": [
    "# Load environment variables in a file called .env\n",
    "\n",
    "load_dotenv(override=True)\n",
    "api_key = os.getenv('OPENAI_API_KEY')\n",
    "\n",
    "# Check the key\n",
    "\n",
    "if not api_key:\n",
    "    print(\"No API key was found - please head over to the troubleshooting notebook in this folder to identify & fix!\")\n",
    "elif not api_key.startswith(\"sk-proj-\"):\n",
    "    print(\"An API key was found, but it doesn't start sk-proj-; please check you're using the right key - see troubleshooting notebook\")\n",
    "elif api_key.strip() != api_key:\n",
    "    print(\"An API key was found, but it looks like it might have space or tab characters at the start or end - please remove them - see troubleshooting notebook\")\n",
    "else:\n",
    "    print(\"API key found and looks good so far!\")\n"
   ]
  },
  {
   "cell_type": "code",
   "execution_count": 3,
   "id": "019974d9-f3ad-4a8a-b5f9-0a3719aea2d3",
   "metadata": {},
   "outputs": [],
   "source": [
    "openai = OpenAI()\n",
    "\n",
    "# If this doesn't work, try Kernel menu >> Restart Kernel and Clear Outputs Of All Cells, then run the cells from the top of this notebook down.\n",
    "# If it STILL doesn't work (horrors!) then please see the Troubleshooting notebook in this folder for full instructions"
   ]
  },
  {
   "cell_type": "markdown",
   "id": "442fc84b-0815-4f40-99ab-d9a5da6bda91",
   "metadata": {},
   "source": [
    "# Let's make a quick call to a Frontier model to get started, as a preview!"
   ]
  },
  {
   "cell_type": "code",
   "execution_count": 4,
   "id": "a58394bf-1e45-46af-9bfd-01e24da6f49a",
   "metadata": {},
   "outputs": [
    {
     "name": "stdout",
     "output_type": "stream",
     "text": [
      "Hello! Welcome! It’s great to hear from you. How can I assist you today?\n"
     ]
    }
   ],
   "source": [
    "# To give you a preview -- calling OpenAI with these messages is this easy. Any problems, head over to the Troubleshooting notebook.\n",
    "\n",
    "message = \"Hello, GPT! This is my first ever message to you! Hi!\"\n",
    "response = openai.chat.completions.create(model=\"gpt-4o-mini\", messages=[{\"role\":\"user\", \"content\":message}])\n",
    "print(response.choices[0].message.content)"
   ]
  },
  {
   "cell_type": "markdown",
   "id": "2aa190e5-cb31-456a-96cc-db109919cd78",
   "metadata": {},
   "source": [
    "## OK onwards with our first project"
   ]
  },
  {
   "cell_type": "code",
   "execution_count": 5,
   "id": "c5e793b2-6775-426a-a139-4848291d0463",
   "metadata": {},
   "outputs": [],
   "source": [
    "# A class to represent a Webpage\n",
    "# If you're not familiar with Classes, check out the \"Intermediate Python\" notebook\n",
    "\n",
    "# Some websites need you to use proper headers when fetching them:\n",
    "headers = {\n",
    " \"User-Agent\": \"Mozilla/5.0 (Windows NT 10.0; Win64; x64) AppleWebKit/537.36 (KHTML, like Gecko) Chrome/117.0.0.0 Safari/537.36\"\n",
    "}\n",
    "\n",
    "class Website:\n",
    "\n",
    "    def __init__(self, url):\n",
    "        \"\"\"\n",
    "        Create this Website object from the given url using the BeautifulSoup library\n",
    "        \"\"\"\n",
    "        self.url = url\n",
    "        response = requests.get(url, headers=headers)\n",
    "        soup = BeautifulSoup(response.content, 'html.parser')\n",
    "        self.title = soup.title.string if soup.title else \"No title found\"\n",
    "        for irrelevant in soup.body([\"script\", \"style\", \"img\", \"input\"]):\n",
    "            irrelevant.decompose()\n",
    "        self.text = soup.body.get_text(separator=\"\\n\", strip=True)"
   ]
  },
  {
   "cell_type": "code",
   "execution_count": 6,
   "id": "2ef960cf-6dc2-4cda-afb3-b38be12f4c97",
   "metadata": {},
   "outputs": [
    {
     "name": "stdout",
     "output_type": "stream",
     "text": [
      "Home - Edward Donner\n",
      "Home\n",
      "Connect Four\n",
      "Outsmart\n",
      "An arena that pits LLMs against each other in a battle of diplomacy and deviousness\n",
      "About\n",
      "Posts\n",
      "Well, hi there.\n",
      "I’m Ed. I like writing code and experimenting with LLMs, and hopefully you’re here because you do too. I also enjoy DJing (but I’m badly out of practice), amateur electronic music production (\n",
      "very\n",
      "amateur) and losing myself in\n",
      "Hacker News\n",
      ", nodding my head sagely to things I only half understand.\n",
      "I’m the co-founder and CTO of\n",
      "Nebula.io\n",
      ". We’re applying AI to a field where it can make a massive, positive impact: helping people discover their potential and pursue their reason for being. Recruiters use our product today to source, understand, engage and manage talent. I’m previously the founder and CEO of AI startup untapt,\n",
      "acquired in 2021\n",
      ".\n",
      "We work with groundbreaking, proprietary LLMs verticalized for talent, we’ve\n",
      "patented\n",
      "our matching model, and our award-winning platform has happy customers and tons of press coverage.\n",
      "Connect\n",
      "with me for more!\n",
      "May 28, 2025\n",
      "Connecting my courses – become an LLM expert and leader\n",
      "May 18, 2025\n",
      "2025 AI Executive Briefing\n",
      "April 21, 2025\n",
      "The Complete Agentic AI Engineering Course\n",
      "January 23, 2025\n",
      "LLM Workshop – Hands-on with Agents – resources\n",
      "Navigation\n",
      "Home\n",
      "Connect Four\n",
      "Outsmart\n",
      "An arena that pits LLMs against each other in a battle of diplomacy and deviousness\n",
      "About\n",
      "Posts\n",
      "Get in touch\n",
      "ed [at] edwarddonner [dot] com\n",
      "www.edwarddonner.com\n",
      "Follow me\n",
      "LinkedIn\n",
      "Twitter\n",
      "Facebook\n",
      "Subscribe to newsletter\n",
      "Type your email…\n",
      "Subscribe\n"
     ]
    }
   ],
   "source": [
    "# Let's try one out. Change the website and add print statements to follow along.\n",
    "\n",
    "ed = Website(\"https://edwarddonner.com\")\n",
    "print(ed.title)\n",
    "print(ed.text)"
   ]
  },
  {
   "cell_type": "markdown",
   "id": "6a478a0c-2c53-48ff-869c-4d08199931e1",
   "metadata": {},
   "source": [
    "## Types of prompts\n",
    "\n",
    "You may know this already - but if not, you will get very familiar with it!\n",
    "\n",
    "Models like GPT4o have been trained to receive instructions in a particular way.\n",
    "\n",
    "They expect to receive:\n",
    "\n",
    "**A system prompt** that tells them what task they are performing and what tone they should use\n",
    "\n",
    "**A user prompt** -- the conversation starter that they should reply to"
   ]
  },
  {
   "cell_type": "code",
   "execution_count": 7,
   "id": "abdb8417-c5dc-44bc-9bee-2e059d162699",
   "metadata": {},
   "outputs": [],
   "source": [
    "# Define our system prompt - you can experiment with this later, changing the last sentence to 'Respond in markdown in Spanish.\"\n",
    "\n",
    "system_prompt = \"You are an assistant that analyzes the contents of a website \\\n",
    "and provides a short summary, ignoring text that might be navigation related. \\\n",
    "Respond in markdown.\""
   ]
  },
  {
   "cell_type": "code",
   "execution_count": 9,
   "id": "f0275b1b-7cfe-4f9d-abfa-7650d378da0c",
   "metadata": {},
   "outputs": [],
   "source": [
    "# A function that writes a User Prompt that asks for summaries of websites:\n",
    "\n",
    "def user_prompt_for(website):\n",
    "    user_prompt = f\"You are looking at a website titled {website.title}\"\n",
    "    user_prompt += \"\\nThe contents of this website is as follows; \\\n",
    "please provide a short summary of this website in markdown. \\\n",
    "If it includes news or announcements, then summarize these too.\\n\\n\"\n",
    "    user_prompt += website.text\n",
    "    return user_prompt"
   ]
  },
  {
   "cell_type": "code",
   "execution_count": 12,
   "id": "58f4aa46-7a85-4ff6-85b1-8846e549d8af",
   "metadata": {},
   "outputs": [
    {
     "data": {
      "text/plain": [
       "'You are an assistant that analyzes the contents of a website and provides a short summary, ignoring text that might be navigation related. Respond in markdown.'"
      ]
     },
     "execution_count": 12,
     "metadata": {},
     "output_type": "execute_result"
    }
   ],
   "source": []
  },
  {
   "cell_type": "code",
   "execution_count": 13,
   "id": "26448ec4-5c00-4204-baec-7df91d11ff2e",
   "metadata": {},
   "outputs": [
    {
     "name": "stdout",
     "output_type": "stream",
     "text": [
      "You are looking at a website titled Home - Edward Donner\n",
      "The contents of this website is as follows; please provide a short summary of this website in markdown. If it includes news or announcements, then summarize these too.\n",
      "\n",
      "Home\n",
      "Connect Four\n",
      "Outsmart\n",
      "An arena that pits LLMs against each other in a battle of diplomacy and deviousness\n",
      "About\n",
      "Posts\n",
      "Well, hi there.\n",
      "I’m Ed. I like writing code and experimenting with LLMs, and hopefully you’re here because you do too. I also enjoy DJing (but I’m badly out of practice), amateur electronic music production (\n",
      "very\n",
      "amateur) and losing myself in\n",
      "Hacker News\n",
      ", nodding my head sagely to things I only half understand.\n",
      "I’m the co-founder and CTO of\n",
      "Nebula.io\n",
      ". We’re applying AI to a field where it can make a massive, positive impact: helping people discover their potential and pursue their reason for being. Recruiters use our product today to source, understand, engage and manage talent. I’m previously the founder and CEO of AI startup untapt,\n",
      "acquired in 2021\n",
      ".\n",
      "We work with groundbreaking, proprietary LLMs verticalized for talent, we’ve\n",
      "patented\n",
      "our matching model, and our award-winning platform has happy customers and tons of press coverage.\n",
      "Connect\n",
      "with me for more!\n",
      "May 28, 2025\n",
      "Connecting my courses – become an LLM expert and leader\n",
      "May 18, 2025\n",
      "2025 AI Executive Briefing\n",
      "April 21, 2025\n",
      "The Complete Agentic AI Engineering Course\n",
      "January 23, 2025\n",
      "LLM Workshop – Hands-on with Agents – resources\n",
      "Navigation\n",
      "Home\n",
      "Connect Four\n",
      "Outsmart\n",
      "An arena that pits LLMs against each other in a battle of diplomacy and deviousness\n",
      "About\n",
      "Posts\n",
      "Get in touch\n",
      "ed [at] edwarddonner [dot] com\n",
      "www.edwarddonner.com\n",
      "Follow me\n",
      "LinkedIn\n",
      "Twitter\n",
      "Facebook\n",
      "Subscribe to newsletter\n",
      "Type your email…\n",
      "Subscribe\n"
     ]
    }
   ],
   "source": [
    "print(user_prompt_for(ed))"
   ]
  },
  {
   "cell_type": "markdown",
   "id": "ea211b5f-28e1-4a86-8e52-c0b7677cadcc",
   "metadata": {},
   "source": [
    "## Messages\n",
    "\n",
    "The API from OpenAI expects to receive messages in a particular structure.\n",
    "Many of the other APIs share this structure:\n",
    "\n",
    "```python\n",
    "[\n",
    "    {\"role\": \"system\", \"content\": \"system message goes here\"},\n",
    "    {\"role\": \"user\", \"content\": \"user message goes here\"}\n",
    "]\n",
    "```\n",
    "To give you a preview, the next 2 cells make a rather simple call - we won't stretch the mighty GPT (yet!)"
   ]
  },
  {
   "cell_type": "code",
   "execution_count": 14,
   "id": "f25dcd35-0cd0-4235-9f64-ac37ed9eaaa5",
   "metadata": {},
   "outputs": [],
   "source": [
    "messages = [\n",
    "    {\"role\": \"system\", \"content\": \"You are a snarky assistant\"},\n",
    "    {\"role\": \"user\", \"content\": \"What is 2 + 2?\"}\n",
    "]"
   ]
  },
  {
   "cell_type": "code",
   "execution_count": 15,
   "id": "21ed95c5-7001-47de-a36d-1d6673b403ce",
   "metadata": {},
   "outputs": [
    {
     "name": "stdout",
     "output_type": "stream",
     "text": [
      "Oh, we’re starting with the easy stuff, huh? Well, congratulations, the answer is 4! You’re really out here doing the heavy lifting.\n"
     ]
    }
   ],
   "source": [
    "# To give you a preview -- calling OpenAI with system and user messages:\n",
    "\n",
    "response = openai.chat.completions.create(model=\"gpt-4o-mini\", messages=messages)\n",
    "print(response.choices[0].message.content)"
   ]
  },
  {
   "cell_type": "markdown",
   "id": "d06e8d78-ce4c-4b05-aa8e-17050c82bb47",
   "metadata": {},
   "source": [
    "## And now let's build useful messages for GPT-4o-mini, using a function"
   ]
  },
  {
   "cell_type": "code",
   "execution_count": 23,
   "id": "003d7088-eea5-4568-8b8c-a3f240f87e08",
   "metadata": {},
   "outputs": [],
   "source": [
    "# let's define a website\n",
    "\n",
    "health_site = Website(\"https://healthmatch.io/high-blood-pressure/taking-garlic-for-high-blood-pressure#overview\")"
   ]
  },
  {
   "cell_type": "code",
   "execution_count": 24,
   "id": "0134dfa4-8299-48b5-b444-f2a8c3403c88",
   "metadata": {},
   "outputs": [],
   "source": [
    "# See how this function creates exactly the format above\n",
    "\n",
    "def messages_for(website):\n",
    "    return [\n",
    "        {\"role\": \"system\", \"content\": system_prompt},\n",
    "        {\"role\": \"user\", \"content\": user_prompt_for(website)}\n",
    "    ]"
   ]
  },
  {
   "cell_type": "code",
   "execution_count": 25,
   "id": "36478464-39ee-485c-9f3f-6a4e458dbc9c",
   "metadata": {},
   "outputs": [
    {
     "data": {
      "text/plain": [
       "[{'role': 'system',\n",
       "  'content': 'You are an assistant that analyzes the contents of a website and provides a short summary, ignoring text that might be navigation related. Respond in markdown.'},\n",
       " {'role': 'user',\n",
       "  'content': \"You are looking at a website titled What You Need To Know About Taking Garlic To Treat High Blood Pressure\\nThe contents of this website is as follows; please provide a short summary of this website in markdown. If it includes news or announcements, then summarize these too.\\n\\nJoin a Trial\\nJoin a Trial\\nSites & Sponsors\\nSites & Sponsors\\nAbout HealthMatch\\nAbout HealthMatch\\nLog in\\nHome\\nHigh blood pressure\\nWhat You Need To Know About Taking Garlic To Treat High Blood Pressure\\nWhat You Need To Know About Taking Garlic To Treat High Blood Pressure\\nUpdated at\\nSeptember 21, 2022\\nMedically reviewed by\\nDavi Santana, M.Sc.\\nWritten by\\nHealthMatch staff\\nContent\\nOverview\\nEverything you need to know about garlic and how it affects high blood pressure\\nHow does garlic treat your high blood pressure?\\nWhat does research say about garlic to treat high blood pressure?\\nHow much garlic should you use to treat high blood pressure?\\nWhat is the best form of garlic to treat high blood pressure?\\nWhat are the best garlic supplements for treating high blood pressure?\\nBRI Nutrition Odorless Garlic\\nThe lowdown\\nHave you considered clinical trials for High blood pressure?\\nWe make it easy for you to participate in a clinical trial for High blood pressure, and get access to the latest treatments not yet widely available - and be a part of finding a cure.\\nCheck your eligibility\\nEverything you need to know about garlic and how it affects high blood pressure\\nIt's no secret that garlic isn't just used to flavor a meal. Adding it to your diet can help you treat many chronic diseases. Its potential benefits include lowering your cholesterol, preventing cancer, and acting as a blood thinner. Perhaps one of the most underrated abilities of this pungent-smelling herb is its ability to lower blood pressure. Here is a detailed breakdown of what you should know about using garlic to treat\\nhypertension\\n.\\nHow does garlic treat your high blood pressure?\\nRecent research¹\\xa0has shown that garlic can be a suitable remedy for lowering high blood pressure with fewer side effects than most prescription drugs. So, what does garlic have that treats high blood pressure?\\nAllicin. This is the main active compound in garlic, considered the contributing factor in garlic's ability to lower blood pressure. According to recent research, allicin can prevent angiotensin production, a hormone\\xa0responsible for raising blood pressure by contracting the blood vessels.\\nBy inhibiting angiotensin, allicin allows your blood to flow freely and easily, reducing your blood pressure. Finally, many experts believe that garlic's antioxidant and anti-inflammatory ability help\\nprevent and reduce high blood pressure\\n.\\nWhat does research say about garlic to treat high blood pressure?\\nMany research studies have been conducted to determine the efficacy of garlic in reducing high blood pressure. In a report published by\\xa0BMC Cardiovascular Disorders²\\xa0(2008), a review of 11 previously published\\nclinical trials\\nshowed that garlic was a better remedy for reducing blood pressure for people with hypertension compared to alternatives.\\nBased on this research, ten of the 11 published clinical reports claimed that garlic lowers blood pressure among patients with high systolic blood pressure. However, it wasn't associated with blood pressure decrease among patients with low systolic blood pressure.\\nIn another\\xa0clinical trial published in the European Journal of Clinical Nutrition³,\\xa0participants who took high doses of garlic showed significant blood pressure reduction.\\nIn this clinical trial, the 79 participants were given a garlic extract or dosage of 240mg of garlic, 480, or 960 for 12 weeks. Among these people, those that took 480 or 960mg of garlic extract showed a significant\\nlowering of the systolic blood pressure\\nreading. Those that took 240mg didn't experience any decrease in their systolic blood pressure.\\nFrom the above two pieces of research, it's reasonable to conclude that garlic can be a suitable remedy for treating your blood pressure. So, the question arises, how much garlic is enough to treat your high blood pressure? Let's see.\\nHow much garlic should you use to treat high blood pressure?\\nThe amount of garlic that can treat your high blood pressure narrows down to specific doses from a report based on several clinical trials¹. So far, this report has provided the following garlic doses for treating hypertension:\\n188mg of garlic powder mixed with egg-yolk taken daily for twelve weeks\\n400mg of raw garlic taken daily for six months\\n240-2,400mg of aged garlic extract a day for two to twenty-three weeks\\n600 – 2,400mg of garlic powder daily for eight to twenty-four weeks\\n12.3mg of garlic oil daily for sixteen weeks\\nEven though the above dosage and forms can significantly lower blood pressure, most studies suggest that using\\xa0aged garlic extract\\xa0can achieve the most benefits. Apart from that, taking high doses between 400mg to 2,4000mg proves to be more effective than lower doses.\\nWhat is the best form of garlic to treat high blood pressure?\\nYou can use different forms of garlic to treat your high blood pressure. These forms are as follows:\\nEat it raw\\nEating raw garlic is one of the best ways you can use garlic to lower your blood pressure. Raw garlic activates alliinase, an enzyme that converts alliin into allicin. You should consume raw garlic within an hour or two of a meal to activate alliinase and achieve maximum benefits.\\nGarlic powder\\nUsing garlic powder can also significantly lower your blood pressure, with 600-900mg of it leading to a 9-12% reduction of your high blood pressure⁴. This garlic powder contains 3.6mg to 5.4mg of allicin, hence its excellent results.\\nSalads\\nGarlic is also a good option for making your salad healthier, in addition to adding flavor. You can add minced or grated garlic to your daily salad to reduce your high blood pressure.\\nGarlic milk\\nYou can also use garlic milk to reduce your high blood pressure and achieve an overall benefit on your health. All you have to do is mix ten to twelve minced garlic cloves to warm milk. It will also help to add a tablespoon of honey into the drink to achieve better results.\\nWhat are the best garlic supplements for treating high blood pressure?\\nThere are several garlic supplements available on the market. Here are the top seven supplements you can consider:\\nBRI Nutrition Odorless Garlic\\nThis is arguably the best-known garlic supplement on the market. Compared with other supplements, this product is suitable for vegans and is sold in capsules, guaranteeing immediate results and being easy to swallow. It is claimed to improve bad LDL cholesterol, in addition to a wide range of other benefits, enhancing your overall health.\\nSome of the details you should know about this supplement include:\\nSold as capsules\\nSuitable for vegans\\nUsed to eliminate cholesterol\\nAllows a dosage of two capsules every day\\nHas a maximum of 120 capsules\\nSundown Garlic\\nIf BRI Nutrition Odorless garlic is not an option, Sundown Garlic should be your second choice. It's an odorless supplement free from allergens like fish, starch, sodium, lactose, and sugar.\\nSundown Garlic works to improve your heart problems like arrhythmia and heart rate. It doesn't have any sweeteners or artificial dyes, making it a reliable option.\\nSome of the details you should know about this supplement include:\\nSold as softgels\\nNot suitable for vegans\\nUsed to remove bad cholesterol and improve your heart health\\nAllows a dosage of one softgel for a maximum of four times a day\\nHas a quantity of 250 softgels\\nNature's Bounty Garlic\\nNature's Bounty Garlic is your best choice if you're on a budget. Every tablet of this supplement contains 2000 mg of natural garlic. Some of the details you should know about it are as follows:\\nSold as tablets\\nSuitable for vegans\\nLowers blood pressure by improving cardiovascular health\\nAllows a dosage of one tablet twice or three times a day with food\\nContains 120 tablets\\nNutraChamps Pills\\nThis supplement is made to boost your immune system and lower your blood pressure. The company that manufactures this supplement uses fresh cloves, making it odorless. Some of the critical details you should note about it are as follows:\\nSold as softgels\\nNot suitable for vegans\\nIts key benefits are improving the immune system and keeping you healthy\\nTake a maximum of two capsules per day\\nContains 120 softgels\\nKYOLIC Aged Garlic Extract\\nThis is a 100% organic garlic supplement suitable for getting rid of LDL cholesterol. According to the manufacturer, using aged garlic extract also removes garlic odor, making it easy to take at any time. They also claim they improve your health and swiftly tackle your cardiovascular issue compared with other garlic forms.\\nSome of the key details you should know about it are as follows:\\nSold as capsules\\nUnsuitable for vegans\\nAchieves swift results when lowering your LDL cholesterol or high blood pressure\\nUsers can take a maximum of two daily\\nContains 100 capsules\\nPuritan's Pride Odorless Garlic\\nThis supplement is popular for its zinc-rich component to\\nimprove metabolism\\n, blood circulation, and the entire immune system.\\nManufacturing of this supplement uses traditional\\nherbs\\nknown for their antioxidant properties, making it suitable for treating other conditions like poor immune response and acne. It helps lower your blood pressure by doing away with LDL cholesterol and maintaining healthy circulation.\\nSome of its key details are as follows:\\nIt's sold as a softgel\\nNot suitable for vegans\\nWorks by actively helping your body lower persistent high blood pressure\\nCan be taken at a maximum of two per day\\nContains 250 softgels\\nNutricost Garlic\\nThis is a gluten-free garlic supplement. It offers better immunity, heart condition, and restfulness results for those with tolerance issues since it has no gluten and is odorless. Some of its key details are as follows:\\nSold as a softgel\\nUnsuitable for vegans\\nCan be taken once to four times when eating\\nContains 240 softgels\\nThe lowdown\\nEven though garlic intake might help improve your health and lower your blood pressure, it shouldn't be the only treatment for your hypertension. Garlic or garlic supplements should complement your\\nprimary high blood pressure medication\\n.\\nControlling your blood pressure is vital since it helps avoid significant health issues like\\nheart problems\\n,\\nkidney issues\\n, and even vision loss. If you want to use garlic as a substitute treatment, consult your physician first.\\nSources\\nGarlic lowers blood pressure in hypertensive subjects, improves arterial stiffness and gut microbiota: A review and meta-analysis\\n(2020)\\nEffect of garlic on blood pressure: A systematic review and meta-analysis\\n(2008)\\nAged garlic extract reduces blood pressure in hypertensives: a dose-response trial\\n(2013)\\nDitch the pill, switch to garlic for high blood pressure: Here's how should you consume it\\n| NDTV\\nShare this story\\nfacebook\\ntwitter\\nlinkedin\\nShare this story\\nfacebook\\ntwitter\\nlinkedin\\nHave you considered clinical trials for High blood pressure?\\nWe make it easy for you to participate in a clinical trial for High blood pressure, and get access to the latest treatments not yet widely available - and be a part of finding a cure.\\nCheck your eligibility\\nDiscover which clinical trials you are eligible for\\nDo you want to know if there are any High blood pressure clinical trials you might be eligible for?\\nYes\\nNo\\nHave you taken medication for High blood pressure?\\nYes\\nNo\\nHave you been diagnosed with High blood pressure?\\nYes\\nNo\\nRelated articles\\nHigh blood pressure\\n|\\nSep 2022\\nCan Apple Cider Vinegar Help With High Blood Pressure?\\nHigh blood pressure\\n|\\nSep 2022\\nAll You Need to Know About Sleep And High Blood Pressure\\nHigh blood pressure\\n|\\nSep 2022\\nRenal Hypertension: Learn More About The Causes, Symptoms, And Treatment Options\\nExplore more\\nClinical trials\\nExplore clinical trials for high blood pressure and see those actively looking for patients near you.\\nTreatments\\nLearn more about proven and effective treatment options for high blood pressure.\\nStatistics\\nFind up-to-date information on how common high blood pressure is, who is most at risk, and more.\\nEditor’s picks\\nLast updated: Apr 2022\\nHow To Lower High Blood Pressure: Science-Backed Methods That Can Help\\nLast updated: May 2022\\nNatural Methods For Reducing High Blood Pressure\\nLast updated: Sep 2022\\nWhat Does It Feel Like To Have High Blood Pressure?\\nLatest news\\nLast updated: Jul 2023\\nHeart Disease Risk: Bridging Racial And Ethnic Gaps\\nLast updated: Oct 2022\\nThe Relationship Between Cigarette Smoking And High Blood Pressure\\nLast updated: Sep 2022\\nAnswers To FAQs About Living With High Blood Pressure\\nFor patients\\nJoin a trial\\nFAQs\\nGuides\\nLogin\\nSignup\\nFor sites & sponsors\\nWhy partner with us\\nScope 2025\\nTrial site portal\\nInsights portal\\nHealthmatch\\nAbout HealthMatch\\nCareers\\nSupport\\nHelp centre\\nGeneral contact\\nhello@healthmatch.io\\nMedia contact\\nmedia@healthmatch.io\\n©\\n2025\\n, HealthMatch\\nPrivacy\\nTerms of Use\\nInstagram\\nfacebook\\ntwitter\\nlinkedin\"}]"
      ]
     },
     "execution_count": 25,
     "metadata": {},
     "output_type": "execute_result"
    }
   ],
   "source": [
    "# Try this out, and then try for a few more websites\n",
    "\n",
    "messages_for(health_site)"
   ]
  },
  {
   "cell_type": "markdown",
   "id": "16f49d46-bf55-4c3e-928f-68fc0bf715b0",
   "metadata": {},
   "source": [
    "## Time to bring it together - the API for OpenAI is very simple!"
   ]
  },
  {
   "cell_type": "code",
   "execution_count": 26,
   "id": "905b9919-aba7-45b5-ae65-81b3d1d78e34",
   "metadata": {},
   "outputs": [],
   "source": [
    "# And now: call the OpenAI API. You will get very familiar with this!\n",
    "\n",
    "def summarize(url):\n",
    "    website = Website(url)\n",
    "    response = openai.chat.completions.create(\n",
    "        model = \"gpt-4o-mini\",\n",
    "        messages = messages_for(website)\n",
    "    )\n",
    "    return response.choices[0].message.content"
   ]
  },
  {
   "cell_type": "code",
   "execution_count": 29,
   "id": "05e38d41-dfa4-4b20-9c96-c46ea75d9fb5",
   "metadata": {},
   "outputs": [
    {
     "data": {
      "text/plain": [
       "'# Summary of \"What You Need To Know About Taking Garlic To Treat High Blood Pressure\"\\n\\nThe website provides an in-depth look at the use of garlic as a natural remedy for high blood pressure. Here are the key points covered:\\n\\n### Overview\\n- **Garlic\\'s Benefits**: Garlic is recognized for its numerous health benefits, including lowering cholesterol, aiding in cancer prevention, and serving as a blood thinner. One of its most notable benefits is its ability to lower blood pressure.\\n\\n### Mechanism of Action\\n- **Allicin**: The main active compound in garlic, allicin, is responsible for its blood pressure-lowering effects. It works by inhibiting the production of angiotensin, a hormone that constricts blood vessels, thus allowing for better blood flow.\\n\\n### Research Findings\\n- Several studies indicate that garlic can effectively reduce high blood pressure, particularly in individuals with elevated systolic levels. One review noted that 10 out of 11 clinical trials showed positive results. Additionally, a specific trial demonstrated that higher doses of garlic extract (480mg to 960mg) led to significant reductions in systolic blood pressure.\\n\\n### Recommended Dosages\\n- Optimal daily doses for garlic vary by form:\\n  - 188mg of garlic powder, 400mg of raw garlic, and 240-2,400mg of aged garlic extract have shown effectiveness.\\n  \\n### Forms of Garlic\\n- Various ways to incorporate garlic into your diet include:\\n  - Raw garlic\\n  - Garlic powder\\n  - Garlic added to salads\\n  - Garlic milk (mixed with warm milk)\\n\\n### Garlic Supplements\\n- The site lists several garlic supplements deemed beneficial for treating high blood pressure, including:\\n  - **BRI Nutrition Odorless Garlic**: Popular and easy to swallow.\\n  - **Sundown Garlic**: Odorless and free from allergens.\\n  - **Nature\\'s Bounty Garlic**: Budget-friendly option.\\n  \\n### Important Considerations\\n- While garlic can be beneficial, it should not replace prescribed medications for hypertension. It is advised to consult a healthcare professional before making significant dietary changes.\\n\\n### Conclusion\\nGarlic can be a helpful adjunct in managing high blood pressure, but proper consultation and monitoring are necessary to ensure overall health and effectiveness. \\n\\n### Clinical Trials\\nThe site also encourages participation in clinical trials to access new treatments for high blood pressure, promoting the potential for new discoveries and benefits in managing this condition.'"
      ]
     },
     "execution_count": 29,
     "metadata": {},
     "output_type": "execute_result"
    }
   ],
   "source": [
    "# summarize(\"https://edwarddonner.com\")\n",
    "url = \"https://healthmatch.io/high-blood-pressure/taking-garlic-for-high-blood-pressure#overview\"\n",
    "summarize(url)"
   ]
  },
  {
   "cell_type": "code",
   "execution_count": 30,
   "id": "3d926d59-450e-4609-92ba-2d6f244f1342",
   "metadata": {},
   "outputs": [],
   "source": [
    "# A function to display this nicely in the Jupyter output, using markdown\n",
    "\n",
    "def display_summary(url):\n",
    "    summary = summarize(url)\n",
    "    display(Markdown(summary))"
   ]
  },
  {
   "cell_type": "code",
   "execution_count": 31,
   "id": "3018853a-445f-41ff-9560-d925d1774b2f",
   "metadata": {},
   "outputs": [
    {
     "data": {
      "text/markdown": [
       "# Summary of \"What You Need To Know About Taking Garlic To Treat High Blood Pressure\"\n",
       "\n",
       "This website provides an in-depth overview of how garlic may help in managing high blood pressure, exploring its active compound, allicin, and its potential benefits.\n",
       "\n",
       "## Key Points\n",
       "\n",
       "- **Effectiveness of Garlic:** Research indicates that garlic is an effective remedy for lowering blood pressure with fewer side effects compared to traditional medications. Allicin, the main active compound in garlic, helps by inhibiting the production of angiotensin, which raises blood pressure.\n",
       "\n",
       "- **Research Findings:** Numerous studies support garlic's efficacy in reducing systolic blood pressure. For instance, a review found that 10 out of 11 studies reported significant blood pressure reductions in hypertensive patients. Optimal results were observed with higher doses, specifically 480 to 960 mg of garlic extract.\n",
       "\n",
       "- **Recommended Dosages:** Suggested dosages for treating high blood pressure range from 188 mg of garlic powder to 2400 mg of aged garlic extract, taken over varying periods.\n",
       "\n",
       "- **Forms of Garlic:** Several forms of garlic consumption are discussed:\n",
       "  - **Raw Garlic:** Most effective when consumed shortly before meals.\n",
       "  - **Garlic Powder:** Effective in doses between 600-900 mg.\n",
       "  - **Garlic Milk:** Mix minced garlic with warm milk for health benefits.\n",
       "\n",
       "- **Garlic Supplements:** The website lists several garlic supplements, including:\n",
       "  - **BRI Nutrition Odorless Garlic**: Easy to swallow, suitable for vegans.\n",
       "  - **Sundown Garlic**: Non-allergenic, supports heart health.\n",
       "  - **Nature's Bounty Garlic**: Affordable option, rich in natural garlic.\n",
       "  - **KYOLIC Aged Garlic Extract**: Organic and effective for reducing cholesterol.\n",
       "  \n",
       "- **Caution:** While incorporating garlic can aid in blood pressure management, it should not replace prescribed medications. Consulting a healthcare provider is recommended before making dietary changes.\n",
       "\n",
       "## Conclusion\n",
       "Garlic can be a beneficial adjunct for treating high blood pressure, but medical advice should be sought to integrate it safely with existing treatments."
      ],
      "text/plain": [
       "<IPython.core.display.Markdown object>"
      ]
     },
     "metadata": {},
     "output_type": "display_data"
    }
   ],
   "source": [
    "# display_summary(\"https://edwarddonner.com\")\n",
    "display_summary(url)"
   ]
  },
  {
   "cell_type": "markdown",
   "id": "b3bcf6f4-adce-45e9-97ad-d9a5d7a3a624",
   "metadata": {},
   "source": [
    "# Let's try more websites\n",
    "\n",
    "Note that this will only work on websites that can be scraped using this simplistic approach.\n",
    "\n",
    "Websites that are rendered with Javascript, like React apps, won't show up. See the community-contributions folder for a Selenium implementation that gets around this. You'll need to read up on installing Selenium (ask ChatGPT!)\n",
    "\n",
    "Also Websites protected with CloudFront (and similar) may give 403 errors - many thanks Andy J for pointing this out.\n",
    "\n",
    "But many websites will work just fine!"
   ]
  },
  {
   "cell_type": "code",
   "execution_count": 32,
   "id": "45d83403-a24c-44b5-84ac-961449b4008f",
   "metadata": {},
   "outputs": [
    {
     "data": {
      "text/markdown": [
       "# Summary of CNN Website\n",
       "\n",
       "The CNN website provides a comprehensive array of breaking news and in-depth coverage across various topics, including U.S. and international news, politics, health, business, science, and entertainment. It features live updates on major events and significant stories, along with videos and podcasts.\n",
       "\n",
       "## Recent News Highlights:\n",
       "\n",
       "- **Colorado Attack**: The suspect in an antisemitic attack has been charged with 16 counts of attempted murder. The attack involved Molotov cocktails, with additional hate crime charges pending.\n",
       "  \n",
       "- **Ukraine-Russia War**: Analysis suggests Ukraine's drone strikes could alter the narrative of its ongoing conflict with Russia by exposing vulnerabilities.\n",
       "\n",
       "- **Legal Trials & Announcements**: \n",
       "  - Sean ‘Diddy’ Combs' trial has concluded emotional testimonies from an ex-employee.\n",
       "  - Notable deaths include actor from 'Parks & Recreation' and renowned sports scientist John Brenkus.\n",
       "\n",
       "- **International Events**: Mount Etna in Italy erupted, prompting evacuations, and violent protests in France led to numerous injuries.\n",
       "\n",
       "- **Political Developments**: Donald Trump is once again in the news regarding his tariff policies, which could have impacts on major American companies.\n",
       "\n",
       "The site also actively encourages user engagement through newsletters and feedback on ad relevance and potential technical issues experienced during browsing. Overall, CNN serves as a prominent source for up-to-date news and analysis on global events."
      ],
      "text/plain": [
       "<IPython.core.display.Markdown object>"
      ]
     },
     "metadata": {},
     "output_type": "display_data"
    }
   ],
   "source": [
    "display_summary(\"https://cnn.com\")"
   ]
  },
  {
   "cell_type": "code",
   "execution_count": 33,
   "id": "75e9fd40-b354-4341-991e-863ef2e59db7",
   "metadata": {},
   "outputs": [
    {
     "data": {
      "text/markdown": [
       "# Anthropic Website Summary\n",
       "\n",
       "The Anthropic website focuses on their AI product, Claude, particularly its latest models, Claude Opus 4 and Claude Sonnet 4. It emphasizes their commitment to responsible AI development with tools designed to enhance human well-being.\n",
       "\n",
       "## Key Features\n",
       "\n",
       "- **Claude Models**: \n",
       "  - **Claude Opus 4**: The most advanced AI model available, aiming to improve coding and AI agent capabilities.\n",
       "  - **Claude Sonnet 4**: Another powerful model that collaborates with Claude Opus 4 to handle various tasks.\n",
       "\n",
       "- **AI Development Focus**: Anthropic aims to develop AI in a manner that prioritizes safety and ethical considerations. They promote studies and research on societal impacts of AI.\n",
       "\n",
       "- **API and Development Tools**: Users can create custom applications and experiences using Claude through provided APIs and documentation.\n",
       "\n",
       "- **Educational Resources**: Anthropic Academy offers resources to learn how to build with Claude.\n",
       "\n",
       "## News and Announcements\n",
       "- The website highlights the **announcement of ISO 42001 certification**, which signals a commitment to quality and safety in their AI practices.\n",
       "\n",
       "This summary encapsulates the core offerings and values of Anthropic as presented on their website."
      ],
      "text/plain": [
       "<IPython.core.display.Markdown object>"
      ]
     },
     "metadata": {},
     "output_type": "display_data"
    }
   ],
   "source": [
    "display_summary(\"https://anthropic.com\")"
   ]
  },
  {
   "cell_type": "markdown",
   "id": "c951be1a-7f1b-448f-af1f-845978e47e2c",
   "metadata": {},
   "source": [
    "<table style=\"margin: 0; text-align: left;\">\n",
    "    <tr>\n",
    "        <td style=\"width: 150px; height: 150px; vertical-align: middle;\">\n",
    "            <img src=\"../business.jpg\" width=\"150\" height=\"150\" style=\"display: block;\" />\n",
    "        </td>\n",
    "        <td>\n",
    "            <h2 style=\"color:#181;\">Business applications</h2>\n",
    "            <span style=\"color:#181;\">In this exercise, you experienced calling the Cloud API of a Frontier Model (a leading model at the frontier of AI) for the first time. We will be using APIs like OpenAI at many stages in the course, in addition to building our own LLMs.\n",
    "\n",
    "More specifically, we've applied this to Summarization - a classic Gen AI use case to make a summary. This can be applied to any business vertical - summarizing the news, summarizing financial performance, summarizing a resume in a cover letter - the applications are limitless. Consider how you could apply Summarization in your business, and try prototyping a solution.</span>\n",
    "        </td>\n",
    "    </tr>\n",
    "</table>\n",
    "\n",
    "<table style=\"margin: 0; text-align: left;\">\n",
    "    <tr>\n",
    "        <td style=\"width: 150px; height: 150px; vertical-align: middle;\">\n",
    "            <img src=\"../important.jpg\" width=\"150\" height=\"150\" style=\"display: block;\" />\n",
    "        </td>\n",
    "        <td>\n",
    "            <h2 style=\"color:#900;\">Before you continue - now try yourself</h2>\n",
    "            <span style=\"color:#900;\">Use the cell below to make your own simple commercial example. Stick with the summarization use case for now. Here's an idea: write something that will take the contents of an email, and will suggest an appropriate short subject line for the email. That's the kind of feature that might be built into a commercial email tool.</span>\n",
    "        </td>\n",
    "    </tr>\n",
    "</table>"
   ]
  },
  {
   "cell_type": "code",
   "execution_count": null,
   "id": "00743dac-0e70-45b7-879a-d7293a6f68a6",
   "metadata": {},
   "outputs": [],
   "source": [
    "# Step 1: Create your prompts\n",
    "\n",
    "system_prompt = \"something here\"\n",
    "user_prompt = \"\"\"\n",
    "    Lots of text\n",
    "    Can be pasted here\n",
    "\"\"\"\n",
    "\n",
    "# Step 2: Make the messages list\n",
    "\n",
    "messages = [] # fill this in\n",
    "\n",
    "# Step 3: Call OpenAI\n",
    "\n",
    "response =\n",
    "\n",
    "# Step 4: print the result\n",
    "\n",
    "print("
   ]
  },
  {
   "cell_type": "markdown",
   "id": "36ed9f14-b349-40e9-a42c-b367e77f8bda",
   "metadata": {},
   "source": [
    "## An extra exercise for those who enjoy web scraping\n",
    "\n",
    "You may notice that if you try `display_summary(\"https://openai.com\")` - it doesn't work! That's because OpenAI has a fancy website that uses Javascript. There are many ways around this that some of you might be familiar with. For example, Selenium is a hugely popular framework that runs a browser behind the scenes, renders the page, and allows you to query it. If you have experience with Selenium, Playwright or similar, then feel free to improve the Website class to use them. In the community-contributions folder, you'll find an example Selenium solution from a student (thank you!)"
   ]
  },
  {
   "cell_type": "markdown",
   "id": "eeab24dc-5f90-4570-b542-b0585aca3eb6",
   "metadata": {},
   "source": [
    "# Sharing your code\n",
    "\n",
    "I'd love it if you share your code afterwards so I can share it with others! You'll notice that some students have already made changes (including a Selenium implementation) which you will find in the community-contributions folder. If you'd like add your changes to that folder, submit a Pull Request with your new versions in that folder and I'll merge your changes.\n",
    "\n",
    "If you're not an expert with git (and I am not!) then GPT has given some nice instructions on how to submit a Pull Request. It's a bit of an involved process, but once you've done it once it's pretty clear. As a pro-tip: it's best if you clear the outputs of your Jupyter notebooks (Edit >> Clean outputs of all cells, and then Save) for clean notebooks.\n",
    "\n",
    "Here are good instructions courtesy of an AI friend:  \n",
    "https://chatgpt.com/share/677a9cb5-c64c-8012-99e0-e06e88afd293"
   ]
  },
  {
   "cell_type": "code",
   "execution_count": null,
   "id": "f4484fcf-8b39-4c3f-9674-37970ed71988",
   "metadata": {},
   "outputs": [],
   "source": []
  }
 ],
 "metadata": {
  "kernelspec": {
   "display_name": "Python 3 (ipykernel)",
   "language": "python",
   "name": "python3"
  },
  "language_info": {
   "codemirror_mode": {
    "name": "ipython",
    "version": 3
   },
   "file_extension": ".py",
   "mimetype": "text/x-python",
   "name": "python",
   "nbconvert_exporter": "python",
   "pygments_lexer": "ipython3",
   "version": "3.11.12"
  }
 },
 "nbformat": 4,
 "nbformat_minor": 5
}
